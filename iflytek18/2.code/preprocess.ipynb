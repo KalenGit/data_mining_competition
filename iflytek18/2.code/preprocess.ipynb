{
 "cells": [
  {
   "cell_type": "code",
   "execution_count": 15,
   "metadata": {},
   "outputs": [],
   "source": [
    "import pandas as pd\n",
    "import numpy as np"
   ]
  },
  {
   "cell_type": "code",
   "execution_count": 5,
   "metadata": {},
   "outputs": [],
   "source": [
    "data_train_round1 = pd.read_table('../1.data/round1_iflyad_train.txt',sep = '\\t')\n",
    "data_test_round1 = pd.read_table('../1.data/round1_iflyad_test_feature.txt',sep = '\\t')"
   ]
  },
  {
   "cell_type": "code",
   "execution_count": 22,
   "metadata": {
    "scrolled": true
   },
   "outputs": [],
   "source": [
    "data_train_round1 = data_train_round1.replace({True: 1, False: 0})"
   ]
  },
  {
   "cell_type": "code",
   "execution_count": null,
   "metadata": {},
   "outputs": [],
   "source": [
    "fea_to_onehot = [\n",
    "    'creative_has_deeplink',\n",
    "    'creative_is_jump',\n",
    "    'creative_is_download',\n",
    "    'creative_is_js',\n",
    "    'creative_is_voicead',\n",
    "    'app_paid',\n",
    "    'creative_type',\n",
    "    'os',\n",
    "    'os_name',\n",
    "    'devtype',\n",
    "    'nnt',\n",
    "    'carrier'\n",
    "]\n",
    "for fea in fea_to_onehot:\n",
    "    pd.get_dummies(data_train_round1[fea])"
   ]
  }
 ],
 "metadata": {
  "kernelspec": {
   "display_name": "Python 2",
   "language": "python",
   "name": "python2"
  },
  "language_info": {
   "codemirror_mode": {
    "name": "ipython",
    "version": 2
   },
   "file_extension": ".py",
   "mimetype": "text/x-python",
   "name": "python",
   "nbconvert_exporter": "python",
   "pygments_lexer": "ipython2",
   "version": "2.7.15"
  }
 },
 "nbformat": 4,
 "nbformat_minor": 2
}
